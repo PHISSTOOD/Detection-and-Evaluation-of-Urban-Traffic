{
 "cells": [
  {
   "cell_type": "code",
   "execution_count": 56,
   "metadata": {},
   "outputs": [],
   "source": [
    "import pandas as pd \n",
    "# Read data from file 'filename.csv' \n",
    "# (in the same directory that your python process is based)\n",
    "# Control delimiters, rows, column names with read_csv (see later) \n",
    "data = pd.read_csv(\"/Users/scarlet/Downloads/data_with_coordinate.csv\") \n",
    "# Preview the first 5 lines of the loaded data \n",
    "cors = list(data['coordinate'])\n",
    "\n",
    "long, lat = [], []\n",
    "for i in range(len(cors)):\n",
    "    sub_long, sub_lat = cors[i][:10], cors[i][10:]\n",
    "    sub_lat = sub_lat[1:] if sub_lat[0] == \"0\" else sub_lat\n",
    "    long.append(sub_long)\n",
    "    lat.append(sub_lat)\n",
    "   \n",
    "df = pd.concat([data.drop(['coordinate'], 1), pd.DataFrame(long, columns = ['longtitude']), pd.DataFrame(lat, columns = ['latitude'])],axis=1)\n",
    "df.to_csv(\"/Users/scarlet/Downloads/coordinates.csv\", index=False)"
   ]
  },
  {
   "cell_type": "code",
   "execution_count": null,
   "metadata": {},
   "outputs": [],
   "source": []
  },
  {
   "cell_type": "code",
   "execution_count": null,
   "metadata": {},
   "outputs": [],
   "source": []
  }
 ],
 "metadata": {
  "kernelspec": {
   "display_name": "Python 3",
   "language": "python",
   "name": "python3"
  },
  "language_info": {
   "codemirror_mode": {
    "name": "ipython",
    "version": 3
   },
   "file_extension": ".py",
   "mimetype": "text/x-python",
   "name": "python",
   "nbconvert_exporter": "python",
   "pygments_lexer": "ipython3",
   "version": "3.7.5"
  }
 },
 "nbformat": 4,
 "nbformat_minor": 4
}
